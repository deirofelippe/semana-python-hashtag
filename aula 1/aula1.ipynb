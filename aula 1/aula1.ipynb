{
 "metadata": {
  "language_info": {
   "codemirror_mode": {
    "name": "ipython",
    "version": 3
   },
   "file_extension": ".py",
   "mimetype": "text/x-python",
   "name": "python",
   "nbconvert_exporter": "python",
   "pygments_lexer": "ipython3",
   "version": "3.8.5"
  },
  "orig_nbformat": 2,
  "kernelspec": {
   "name": "python385jvsc74a57bd031f2aee4e71d21fbe5cf8b01ff0e069b9275f58929596ceb00d14d90e3e16cd6",
   "display_name": "Python 3.8.5 64-bit"
  },
  "metadata": {
   "interpreter": {
    "hash": "31f2aee4e71d21fbe5cf8b01ff0e069b9275f58929596ceb00d14d90e3e16cd6"
   }
  }
 },
 "nbformat": 4,
 "nbformat_minor": 2,
 "cells": [
  {
   "cell_type": "code",
   "execution_count": 65,
   "metadata": {},
   "outputs": [],
   "source": [
    "import pyautogui\n",
    "import time\n",
    "import pyperclip\n",
    "\n",
    "# sempre q um comando ser executado, vai esperar 1 segundo\n",
    "pyautogui.PAUSE = 1\n",
    "\n",
    "# pyautogui.alert(\"O programa vai ser executado, não use o programa. Quando ele finalizar, um alerta do termino do programa será feito.\")\n",
    "\n",
    "def abrir_firefox():\n",
    "    pyautogui.click(666, 754)\n",
    "    pyautogui.hotkey('ctrl','alt','t')\n",
    "    time.sleep(3)\n",
    "    pyautogui.write('firefox &')\n",
    "    pyautogui.press('enter')\n",
    "    time.sleep(3)\n",
    "\n",
    "def acessar_google_drive():\n",
    "    link = 'https://drive.google.com/drive/folders/1MR9mXuWKLzf7HdxE93VDPeFpJ6EHaXfU'\n",
    "    pyperclip.copy(link)\n",
    "    pyautogui.hotkey('ctrl','v')\n",
    "    pyautogui.press('enter')\n",
    "    time.sleep(5)\n",
    "\n",
    "# def baixar_planilha_v1():\n",
    "#     pyautogui.click(x=372, y=310, button='right')\n",
    "#     time.sleep(2)\n",
    "#     pyautogui.click(x=464, y=652)\n",
    "#     time.sleep(3)\n",
    "#     pyautogui.click(x=792, y=221)\n",
    "#     time.sleep(3)\n",
    "#     pyautogui.click(x=876, y=512)\n",
    "\n",
    "def baixar_planilha_v2():\n",
    "    pyautogui.click(x=414, y=279, button='right')\n",
    "    time.sleep(2)\n",
    "    pyautogui.click(x=475, y=655)\n",
    "    time.sleep(3)\n",
    "    pyautogui.click(x=780, y=220)\n",
    "    time.sleep(3)\n",
    "    pyautogui.click(x=889, y=510)\n",
    "\n",
    "abrir_firefox()\n",
    "acessar_google_drive()\n",
    "baixar_planilha_v2()"
   ]
  },
  {
   "cell_type": "code",
   "execution_count": 66,
   "metadata": {},
   "outputs": [],
   "source": [
    "# encotrar posição x e y do cursos na tela\n",
    "# pyautogui.position()"
   ]
  },
  {
   "cell_type": "code",
   "execution_count": 67,
   "metadata": {},
   "outputs": [
    {
     "output_type": "display_data",
     "data": {
      "text/plain": "      Código Venda       Data                     ID Loja           Produto  \\\n0            65014 2019-12-01            Shopping Morumbi    Sunga Listrado   \n1            65014 2019-12-01            Shopping Morumbi   Casaco Listrado   \n2            65016 2019-12-01           Iguatemi Campinas   Sapato Listrado   \n3            65016 2019-12-01           Iguatemi Campinas            Casaco   \n4            65017 2019-12-01          Shopping SP Market        Gorro Liso   \n...            ...        ...                         ...               ...   \n7084         69996 2019-12-26  Center Shopping Uberlândia    Short Listrado   \n7085         69996 2019-12-26  Center Shopping Uberlândia           Mochila   \n7086         69996 2019-12-26  Center Shopping Uberlândia  Pulseira Estampa   \n7087         69997 2019-12-26           Ribeirão Shopping   Camisa Listrado   \n7088         69997 2019-12-26           Ribeirão Shopping       Short Linho   \n\n      Quantidade  Valor Unitário  Valor Final  \n0              5             114          570  \n1              1             269          269  \n2              2             363          726  \n3              1             250          250  \n4              3              92          276  \n...          ...             ...          ...  \n7084           2             102          204  \n7085           4             270         1080  \n7086           1              87           87  \n7087           1             108          108  \n7088           2             133          266  \n\n[7089 rows x 7 columns]",
      "text/html": "<div>\n<style scoped>\n    .dataframe tbody tr th:only-of-type {\n        vertical-align: middle;\n    }\n\n    .dataframe tbody tr th {\n        vertical-align: top;\n    }\n\n    .dataframe thead th {\n        text-align: right;\n    }\n</style>\n<table border=\"1\" class=\"dataframe\">\n  <thead>\n    <tr style=\"text-align: right;\">\n      <th></th>\n      <th>Código Venda</th>\n      <th>Data</th>\n      <th>ID Loja</th>\n      <th>Produto</th>\n      <th>Quantidade</th>\n      <th>Valor Unitário</th>\n      <th>Valor Final</th>\n    </tr>\n  </thead>\n  <tbody>\n    <tr>\n      <th>0</th>\n      <td>65014</td>\n      <td>2019-12-01</td>\n      <td>Shopping Morumbi</td>\n      <td>Sunga Listrado</td>\n      <td>5</td>\n      <td>114</td>\n      <td>570</td>\n    </tr>\n    <tr>\n      <th>1</th>\n      <td>65014</td>\n      <td>2019-12-01</td>\n      <td>Shopping Morumbi</td>\n      <td>Casaco Listrado</td>\n      <td>1</td>\n      <td>269</td>\n      <td>269</td>\n    </tr>\n    <tr>\n      <th>2</th>\n      <td>65016</td>\n      <td>2019-12-01</td>\n      <td>Iguatemi Campinas</td>\n      <td>Sapato Listrado</td>\n      <td>2</td>\n      <td>363</td>\n      <td>726</td>\n    </tr>\n    <tr>\n      <th>3</th>\n      <td>65016</td>\n      <td>2019-12-01</td>\n      <td>Iguatemi Campinas</td>\n      <td>Casaco</td>\n      <td>1</td>\n      <td>250</td>\n      <td>250</td>\n    </tr>\n    <tr>\n      <th>4</th>\n      <td>65017</td>\n      <td>2019-12-01</td>\n      <td>Shopping SP Market</td>\n      <td>Gorro Liso</td>\n      <td>3</td>\n      <td>92</td>\n      <td>276</td>\n    </tr>\n    <tr>\n      <th>...</th>\n      <td>...</td>\n      <td>...</td>\n      <td>...</td>\n      <td>...</td>\n      <td>...</td>\n      <td>...</td>\n      <td>...</td>\n    </tr>\n    <tr>\n      <th>7084</th>\n      <td>69996</td>\n      <td>2019-12-26</td>\n      <td>Center Shopping Uberlândia</td>\n      <td>Short Listrado</td>\n      <td>2</td>\n      <td>102</td>\n      <td>204</td>\n    </tr>\n    <tr>\n      <th>7085</th>\n      <td>69996</td>\n      <td>2019-12-26</td>\n      <td>Center Shopping Uberlândia</td>\n      <td>Mochila</td>\n      <td>4</td>\n      <td>270</td>\n      <td>1080</td>\n    </tr>\n    <tr>\n      <th>7086</th>\n      <td>69996</td>\n      <td>2019-12-26</td>\n      <td>Center Shopping Uberlândia</td>\n      <td>Pulseira Estampa</td>\n      <td>1</td>\n      <td>87</td>\n      <td>87</td>\n    </tr>\n    <tr>\n      <th>7087</th>\n      <td>69997</td>\n      <td>2019-12-26</td>\n      <td>Ribeirão Shopping</td>\n      <td>Camisa Listrado</td>\n      <td>1</td>\n      <td>108</td>\n      <td>108</td>\n    </tr>\n    <tr>\n      <th>7088</th>\n      <td>69997</td>\n      <td>2019-12-26</td>\n      <td>Ribeirão Shopping</td>\n      <td>Short Linho</td>\n      <td>2</td>\n      <td>133</td>\n      <td>266</td>\n    </tr>\n  </tbody>\n</table>\n<p>7089 rows × 7 columns</p>\n</div>"
     },
     "metadata": {}
    }
   ],
   "source": [
    "import pandas as pd\n",
    "\n",
    "# elimina os codigos secretos (\\n\\s) e le da forma q ta escrito\n",
    "tabela = pd.read_excel(r\"/home/boibandido/Downloads/Vendas - Dez.xlsx\") \n",
    "display(tabela)\n",
    "\n",
    "faturamento = tabela[\"Valor Final\"].sum()\n",
    "qtd_produtos = tabela[\"Quantidade\"].sum()\n"
   ]
  },
  {
   "cell_type": "code",
   "execution_count": 68,
   "metadata": {},
   "outputs": [
    {
     "output_type": "stream",
     "name": "stdout",
     "text": [
      "Email enviado!\n"
     ]
    }
   ],
   "source": [
    "import credenciais\n",
    "# envio de email usando o site gmail com pyautogui ou a api do python\n",
    "import smtplib\n",
    "import unicodedata\n",
    "\n",
    "# f diz q vai usar variaveis dentro da string\n",
    "texto_email = f\"\"\"\n",
    "Prezados, bom dia\n",
    "\n",
    "O faturamento foi de R${faturamento:,.2f}\n",
    "A quantidade de produtos foi de: {qtd_produtos}\n",
    "\n",
    "Abs\n",
    "Felippe\n",
    "\"\"\"\n",
    "\n",
    "texto_email = unicodedata.normalize('NFKD', texto_email).encode('ascii', 'ignore').decode('utf8')\n",
    "conection = smtplib.SMTP_SSL(credenciais.smtp_server, credenciais.smtp_port_ssl)\n",
    "conection.login(credenciais.email, credenciais.senha)\n",
    "conection.sendmail(credenciais.email, credenciais.email, texto_email)\n",
    "conection.quit()\n",
    "print(\"Email enviado!\")\n"
   ]
  }
 ]
}