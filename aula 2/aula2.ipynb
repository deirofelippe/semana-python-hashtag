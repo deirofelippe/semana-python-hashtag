{
 "metadata": {
  "language_info": {
   "codemirror_mode": {
    "name": "ipython",
    "version": 3
   },
   "file_extension": ".py",
   "mimetype": "text/x-python",
   "name": "python",
   "nbconvert_exporter": "python",
   "pygments_lexer": "ipython3",
   "version": "3.8.5"
  },
  "orig_nbformat": 2,
  "kernelspec": {
   "name": "python385jvsc74a57bd031f2aee4e71d21fbe5cf8b01ff0e069b9275f58929596ceb00d14d90e3e16cd6",
   "display_name": "Python 3.8.5 64-bit"
  },
  "metadata": {
   "interpreter": {
    "hash": "31f2aee4e71d21fbe5cf8b01ff0e069b9275f58929596ceb00d14d90e3e16cd6"
   }
  }
 },
 "nbformat": 4,
 "nbformat_minor": 2,
 "cells": [
  {
   "cell_type": "code",
   "execution_count": null,
   "metadata": {},
   "outputs": [],
   "source": [
    "import pandas as pd\n",
    "\n",
    "tabela_clientes = pd.read_csv('telecom_users.csv')\n",
    "\n",
    "# axis = 0 (linha)\n",
    "# axis = 1 (coluna)\n",
    "tabela_clientes = tabela_clientes.drop(\"Unnamed: 0\", axis = 1)\n",
    "tabela_clientes = tabela_clientes.drop(\"IDCliente\", axis = 1)\n",
    "\n",
    "display(tabela_clientes)"
   ]
  },
  {
   "cell_type": "code",
   "execution_count": null,
   "metadata": {},
   "outputs": [],
   "source": [
    "display(tabela_clientes.columns)"
   ]
  },
  {
   "cell_type": "code",
   "execution_count": null,
   "metadata": {},
   "outputs": [],
   "source": [
    "print(tabela_clientes.info())"
   ]
  },
  {
   "cell_type": "code",
   "execution_count": null,
   "metadata": {},
   "outputs": [],
   "source": [
    "tabela_clientes[\"TotalGasto\"] = pd.to_numeric(tabela_clientes[\"TotalGasto\"], errors = \"coerce\")\n",
    "# excluir colunas q tem todos valores vazios, excluir coluna\n",
    "tabela_clientes = tabela_clientes.dropna(how=\"all\", axis=1)\n",
    "# excluir linhas que tem algum valor vazio\n",
    "tabela_clientes = tabela_clientes.dropna()\n",
    "\n",
    "print(tabela_clientes.info())"
   ]
  },
  {
   "cell_type": "code",
   "execution_count": null,
   "metadata": {},
   "outputs": [],
   "source": [
    "display(tabela_clientes[\"Churn\"].value_counts())\n",
    "# \n",
    "# : esta formatando . divisao de casa decimal 1 uma casa decimal % vai ser em percentual\n",
    "display(tabela_clientes[\"Churn\"].value_counts(normalize = True).map(\"{:.2%}\".format))\n"
   ]
  },
  {
   "cell_type": "code",
   "execution_count": null,
   "metadata": {},
   "outputs": [],
   "source": [
    "import plotly.express as px\n",
    "\n",
    "# exibir informacoes da coluna ServicoInternet, em cada categoria de ServicoInternet, quais q são churn\n",
    "grafico = px.histogram(tabela_clientes, x=\"ServicoInternet\", color=\"Churn\")\n",
    "grafico.show()"
   ]
  },
  {
   "cell_type": "code",
   "execution_count": null,
   "metadata": {},
   "outputs": [],
   "source": [
    "for coluna in tabela_clientes:\n",
    "    grafico = px.histogram(tabela_clientes, x=coluna, color=\"Churn\")\n",
    "    grafico.show()"
   ]
  },
  {
   "source": [
    "# Conclusões\n",
    "## Dicas\n",
    "\n",
    "Verificar se tem discrepância nos gráfico\n",
    "\n",
    "## Observações\n",
    "- Quem tem outros familiares com nossa empresa, tende a cancelar menos\n",
    "- Há um problema sério com retenção de clientes nos primeiros meses\n",
    "    - O serviço no inicio não parece bom\n",
    "- Os clientes de fibra cancelam muito mais do que os de outros serviços\n",
    "- Clientes que tem outros serviços tem muita chance de não cancelar\n",
    "    - Criar algum plano/promoção pra incentivar a contratação de serviços adicionais\n",
    "- Quem tem contrato mensal tem muita chance de cancelar\n",
    "    - Criar um plano de incentivo para o contrato anual\n",
    "- Incentivar forma automática de pagamento e evitar o boleto eletronico (maior número de cancelamento)"
   ],
   "cell_type": "markdown",
   "metadata": {}
  }
 ]
}